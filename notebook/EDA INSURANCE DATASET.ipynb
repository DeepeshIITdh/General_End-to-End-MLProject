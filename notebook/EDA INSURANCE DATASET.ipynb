{
 "cells": [
  {
   "cell_type": "markdown",
   "metadata": {},
   "source": [
    "# Life cycle of Machine learning Project\n",
    "\n",
    "* Understanding the Problem Statement\n",
    "* Data Collection\n",
    "* Data Checks to perform\n",
    "* Exploratory data analysis\n",
    "* Data Pre-Processing\n",
    "* Model Training\n",
    "* Choose best model"
   ]
  },
  {
   "cell_type": "code",
   "execution_count": 1,
   "metadata": {},
   "outputs": [],
   "source": [
    "# importing libraries and packages\n",
    "import pandas as pd \n",
    "import numpy as np "
   ]
  },
  {
   "cell_type": "code",
   "execution_count": 3,
   "metadata": {},
   "outputs": [
    {
     "data": {
      "text/html": [
       "<div>\n",
       "<style scoped>\n",
       "    .dataframe tbody tr th:only-of-type {\n",
       "        vertical-align: middle;\n",
       "    }\n",
       "\n",
       "    .dataframe tbody tr th {\n",
       "        vertical-align: top;\n",
       "    }\n",
       "\n",
       "    .dataframe thead th {\n",
       "        text-align: right;\n",
       "    }\n",
       "</style>\n",
       "<table border=\"1\" class=\"dataframe\">\n",
       "  <thead>\n",
       "    <tr style=\"text-align: right;\">\n",
       "      <th></th>\n",
       "      <th>age</th>\n",
       "      <th>sex</th>\n",
       "      <th>bmi</th>\n",
       "      <th>children</th>\n",
       "      <th>smoker</th>\n",
       "      <th>region</th>\n",
       "      <th>charges</th>\n",
       "    </tr>\n",
       "  </thead>\n",
       "  <tbody>\n",
       "    <tr>\n",
       "      <th>0</th>\n",
       "      <td>19</td>\n",
       "      <td>female</td>\n",
       "      <td>27.900</td>\n",
       "      <td>0</td>\n",
       "      <td>yes</td>\n",
       "      <td>southwest</td>\n",
       "      <td>16884.92400</td>\n",
       "    </tr>\n",
       "    <tr>\n",
       "      <th>1</th>\n",
       "      <td>18</td>\n",
       "      <td>male</td>\n",
       "      <td>33.770</td>\n",
       "      <td>1</td>\n",
       "      <td>no</td>\n",
       "      <td>southeast</td>\n",
       "      <td>1725.55230</td>\n",
       "    </tr>\n",
       "    <tr>\n",
       "      <th>2</th>\n",
       "      <td>28</td>\n",
       "      <td>male</td>\n",
       "      <td>33.000</td>\n",
       "      <td>3</td>\n",
       "      <td>no</td>\n",
       "      <td>southeast</td>\n",
       "      <td>4449.46200</td>\n",
       "    </tr>\n",
       "    <tr>\n",
       "      <th>3</th>\n",
       "      <td>33</td>\n",
       "      <td>male</td>\n",
       "      <td>22.705</td>\n",
       "      <td>0</td>\n",
       "      <td>no</td>\n",
       "      <td>northwest</td>\n",
       "      <td>21984.47061</td>\n",
       "    </tr>\n",
       "    <tr>\n",
       "      <th>4</th>\n",
       "      <td>32</td>\n",
       "      <td>male</td>\n",
       "      <td>28.880</td>\n",
       "      <td>0</td>\n",
       "      <td>no</td>\n",
       "      <td>northwest</td>\n",
       "      <td>3866.85520</td>\n",
       "    </tr>\n",
       "  </tbody>\n",
       "</table>\n",
       "</div>"
      ],
      "text/plain": [
       "   age     sex     bmi  children smoker     region      charges\n",
       "0   19  female  27.900         0    yes  southwest  16884.92400\n",
       "1   18    male  33.770         1     no  southeast   1725.55230\n",
       "2   28    male  33.000         3     no  southeast   4449.46200\n",
       "3   33    male  22.705         0     no  northwest  21984.47061\n",
       "4   32    male  28.880         0     no  northwest   3866.85520"
      ]
     },
     "execution_count": 3,
     "metadata": {},
     "output_type": "execute_result"
    }
   ],
   "source": [
    "# load the dataset\n",
    "df = pd.read_csv('data/insurance.csv')\n",
    "df.head()"
   ]
  },
  {
   "cell_type": "code",
   "execution_count": null,
   "metadata": {},
   "outputs": [
    {
     "data": {
      "text/plain": [
       "(1338, 7)"
      ]
     },
     "execution_count": 4,
     "metadata": {},
     "output_type": "execute_result"
    }
   ],
   "source": [
    "# shape of the data\n",
    "df.shape"
   ]
  },
  {
   "cell_type": "markdown",
   "metadata": {},
   "source": [
    "### Column Summary"
   ]
  },
  {
   "cell_type": "code",
   "execution_count": 9,
   "metadata": {},
   "outputs": [],
   "source": [
    "def column_summary(df):\n",
    "    \n",
    "    summary_df = pd.DataFrame({\n",
    "        'col_name' : df.columns,\n",
    "        'col_dtype' : df.dtypes.values,\n",
    "        'num_of_nulls' : df.isnull().sum().values,\n",
    "        'null%' : round((df.isnull().sum()/df.shape[0])*100, 2).values,\n",
    "        'num_of_non_nulls' : df.count().values,\n",
    "        'num_of_distinct_values' : df.nunique().values\n",
    "    })\n",
    "    \n",
    "    ## extracting distinct_values_counts for summary_df\n",
    "    distinct_values_counts = []\n",
    "    for i in range(df.shape[1]):\n",
    "        if summary_df['num_of_distinct_values'][i]<=10:\n",
    "            distinct_values_counts.append(dict(zip(df[df.columns[i]].value_counts().index.to_list(),df[df.columns[i]].value_counts().values)))\n",
    "        else:\n",
    "            distinct_values_counts.append(dict(zip(df[df.columns[i]].value_counts().index.to_list()[:10],df[df.columns[i]].value_counts().values[:10])))\n",
    "            \n",
    "    summary_df['distinct_values_counts'] = distinct_values_counts\n",
    "    \n",
    "    return summary_df\n",
    "\n",
    "summary = column_summary(df)"
   ]
  },
  {
   "cell_type": "code",
   "execution_count": 10,
   "metadata": {},
   "outputs": [
    {
     "data": {
      "text/html": [
       "<div>\n",
       "<style scoped>\n",
       "    .dataframe tbody tr th:only-of-type {\n",
       "        vertical-align: middle;\n",
       "    }\n",
       "\n",
       "    .dataframe tbody tr th {\n",
       "        vertical-align: top;\n",
       "    }\n",
       "\n",
       "    .dataframe thead th {\n",
       "        text-align: right;\n",
       "    }\n",
       "</style>\n",
       "<table border=\"1\" class=\"dataframe\">\n",
       "  <thead>\n",
       "    <tr style=\"text-align: right;\">\n",
       "      <th></th>\n",
       "      <th>col_name</th>\n",
       "      <th>col_dtype</th>\n",
       "      <th>num_of_nulls</th>\n",
       "      <th>null%</th>\n",
       "      <th>num_of_non_nulls</th>\n",
       "      <th>num_of_distinct_values</th>\n",
       "      <th>distinct_values_counts</th>\n",
       "    </tr>\n",
       "  </thead>\n",
       "  <tbody>\n",
       "    <tr>\n",
       "      <th>0</th>\n",
       "      <td>age</td>\n",
       "      <td>int64</td>\n",
       "      <td>0</td>\n",
       "      <td>0.0</td>\n",
       "      <td>1338</td>\n",
       "      <td>47</td>\n",
       "      <td>{18: 69, 19: 68, 46: 29, 52: 29, 50: 29, 47: 2...</td>\n",
       "    </tr>\n",
       "    <tr>\n",
       "      <th>1</th>\n",
       "      <td>sex</td>\n",
       "      <td>object</td>\n",
       "      <td>0</td>\n",
       "      <td>0.0</td>\n",
       "      <td>1338</td>\n",
       "      <td>2</td>\n",
       "      <td>{'male': 676, 'female': 662}</td>\n",
       "    </tr>\n",
       "    <tr>\n",
       "      <th>2</th>\n",
       "      <td>bmi</td>\n",
       "      <td>float64</td>\n",
       "      <td>0</td>\n",
       "      <td>0.0</td>\n",
       "      <td>1338</td>\n",
       "      <td>548</td>\n",
       "      <td>{32.3: 13, 28.31: 9, 30.8: 8, 31.35: 8, 30.495...</td>\n",
       "    </tr>\n",
       "    <tr>\n",
       "      <th>3</th>\n",
       "      <td>children</td>\n",
       "      <td>int64</td>\n",
       "      <td>0</td>\n",
       "      <td>0.0</td>\n",
       "      <td>1338</td>\n",
       "      <td>6</td>\n",
       "      <td>{0: 574, 1: 324, 2: 240, 3: 157, 4: 25, 5: 18}</td>\n",
       "    </tr>\n",
       "    <tr>\n",
       "      <th>4</th>\n",
       "      <td>smoker</td>\n",
       "      <td>object</td>\n",
       "      <td>0</td>\n",
       "      <td>0.0</td>\n",
       "      <td>1338</td>\n",
       "      <td>2</td>\n",
       "      <td>{'no': 1064, 'yes': 274}</td>\n",
       "    </tr>\n",
       "    <tr>\n",
       "      <th>5</th>\n",
       "      <td>region</td>\n",
       "      <td>object</td>\n",
       "      <td>0</td>\n",
       "      <td>0.0</td>\n",
       "      <td>1338</td>\n",
       "      <td>4</td>\n",
       "      <td>{'southeast': 364, 'southwest': 325, 'northwes...</td>\n",
       "    </tr>\n",
       "    <tr>\n",
       "      <th>6</th>\n",
       "      <td>charges</td>\n",
       "      <td>float64</td>\n",
       "      <td>0</td>\n",
       "      <td>0.0</td>\n",
       "      <td>1338</td>\n",
       "      <td>1337</td>\n",
       "      <td>{1639.5631: 2, 6203.90175: 1, 12981.3457: 1, 2...</td>\n",
       "    </tr>\n",
       "  </tbody>\n",
       "</table>\n",
       "</div>"
      ],
      "text/plain": [
       "   col_name col_dtype  num_of_nulls  null%  num_of_non_nulls  \\\n",
       "0       age     int64             0    0.0              1338   \n",
       "1       sex    object             0    0.0              1338   \n",
       "2       bmi   float64             0    0.0              1338   \n",
       "3  children     int64             0    0.0              1338   \n",
       "4    smoker    object             0    0.0              1338   \n",
       "5    region    object             0    0.0              1338   \n",
       "6   charges   float64             0    0.0              1338   \n",
       "\n",
       "   num_of_distinct_values                             distinct_values_counts  \n",
       "0                      47  {18: 69, 19: 68, 46: 29, 52: 29, 50: 29, 47: 2...  \n",
       "1                       2                       {'male': 676, 'female': 662}  \n",
       "2                     548  {32.3: 13, 28.31: 9, 30.8: 8, 31.35: 8, 30.495...  \n",
       "3                       6     {0: 574, 1: 324, 2: 240, 3: 157, 4: 25, 5: 18}  \n",
       "4                       2                           {'no': 1064, 'yes': 274}  \n",
       "5                       4  {'southeast': 364, 'southwest': 325, 'northwes...  \n",
       "6                    1337  {1639.5631: 2, 6203.90175: 1, 12981.3457: 1, 2...  "
      ]
     },
     "execution_count": 10,
     "metadata": {},
     "output_type": "execute_result"
    }
   ],
   "source": [
    "# summary dataframe\n",
    "summary"
   ]
  },
  {
   "cell_type": "code",
   "execution_count": 15,
   "metadata": {},
   "outputs": [
    {
     "name": "stdout",
     "output_type": "stream",
     "text": [
      "(1338, 7)\n",
      "(1337, 7)\n"
     ]
    }
   ],
   "source": [
    "# duplicates\n",
    "print(df.shape)\n",
    "\n",
    "if df.duplicated().sum() > 0:\n",
    "    df.drop_duplicates(inplace=True, ignore_index=True)\n",
    "\n",
    "print(df.shape)"
   ]
  },
  {
   "cell_type": "code",
   "execution_count": null,
   "metadata": {},
   "outputs": [],
   "source": []
  }
 ],
 "metadata": {
  "kernelspec": {
   "display_name": "venv",
   "language": "python",
   "name": "python3"
  },
  "language_info": {
   "codemirror_mode": {
    "name": "ipython",
    "version": 3
   },
   "file_extension": ".py",
   "mimetype": "text/x-python",
   "name": "python",
   "nbconvert_exporter": "python",
   "pygments_lexer": "ipython3",
   "version": "3.10.7"
  }
 },
 "nbformat": 4,
 "nbformat_minor": 2
}
